{
 "cells": [
  {
   "cell_type": "code",
   "execution_count": 234,
   "id": "ad5cb2cd-3be1-47f3-8772-57767c2cd7ab",
   "metadata": {},
   "outputs": [],
   "source": [
    "# === All necessary imports ===\n",
    "import pandas as pd\n",
    "import numpy as np\n",
    "from sklearn.model_selection import train_test_split\n",
    "from sklearn.preprocessing import LabelEncoder\n",
    "from sklearn.metrics import accuracy_score, precision_score, recall_score, f1_score, roc_auc_score, classification_report\n",
    "from xgboost import XGBClassifier\n",
    "from sklearn.metrics import confusion_matrix, ConfusionMatrixDisplay\n",
    "import matplotlib.pyplot as plt\n",
    "import seaborn as sns"
   ]
  },
  {
   "cell_type": "code",
   "execution_count": 222,
   "id": "a51c0e8e-6caa-4deb-8789-f238ce5fecbb",
   "metadata": {},
   "outputs": [],
   "source": [
    "# === Load the dataset ===\n",
    "df = pd.read_csv('df_encoded.csv')  # Update file name as needed\n",
    "\n",
    "# === Prepare feature set (drop both label columns for both models) ===\n",
    "X = df.drop(columns=['label', 'attack_cat'])\n",
    "\n",
    "# === Target for binary model ===\n",
    "y_bin = df['label']\n",
    "\n",
    "# === Split for binary model ===\n",
    "X_train, X_test, y_train, y_test = train_test_split(\n",
    "    X, y_bin, test_size=0.3, random_state=42, stratify=y_bin\n",
    ")"
   ]
  },
  {
   "cell_type": "code",
   "execution_count": 223,
   "id": "4ead437a-e258-4f51-8adf-faa06159d408",
   "metadata": {},
   "outputs": [
    {
     "data": {
      "text/plain": [
       "(2027332, 43)"
      ]
     },
     "execution_count": 223,
     "metadata": {},
     "output_type": "execute_result"
    }
   ],
   "source": [
    "df.shape"
   ]
  },
  {
   "cell_type": "code",
   "execution_count": 224,
   "id": "ed946441-965c-4249-9367-519bdb35beae",
   "metadata": {},
   "outputs": [
    {
     "data": {
      "text/html": [
       "<div>\n",
       "<style scoped>\n",
       "    .dataframe tbody tr th:only-of-type {\n",
       "        vertical-align: middle;\n",
       "    }\n",
       "\n",
       "    .dataframe tbody tr th {\n",
       "        vertical-align: top;\n",
       "    }\n",
       "\n",
       "    .dataframe thead th {\n",
       "        text-align: right;\n",
       "    }\n",
       "</style>\n",
       "<table border=\"1\" class=\"dataframe\">\n",
       "  <thead>\n",
       "    <tr style=\"text-align: right;\">\n",
       "      <th></th>\n",
       "      <th>proto</th>\n",
       "      <th>state</th>\n",
       "      <th>dur</th>\n",
       "      <th>sbytes</th>\n",
       "      <th>dbytes</th>\n",
       "      <th>sttl</th>\n",
       "      <th>dttl</th>\n",
       "      <th>sloss</th>\n",
       "      <th>dloss</th>\n",
       "      <th>service</th>\n",
       "      <th>...</th>\n",
       "      <th>ct_ftp_cmd</th>\n",
       "      <th>ct_srv_src</th>\n",
       "      <th>ct_srv_dst</th>\n",
       "      <th>ct_dst_ltm</th>\n",
       "      <th>ct_src_ltm</th>\n",
       "      <th>ct_src_dport_ltm</th>\n",
       "      <th>ct_dst_sport_ltm</th>\n",
       "      <th>ct_dst_src_ltm</th>\n",
       "      <th>attack_cat</th>\n",
       "      <th>label</th>\n",
       "    </tr>\n",
       "  </thead>\n",
       "  <tbody>\n",
       "    <tr>\n",
       "      <th>0</th>\n",
       "      <td>120</td>\n",
       "      <td>2</td>\n",
       "      <td>0.001055</td>\n",
       "      <td>132</td>\n",
       "      <td>164</td>\n",
       "      <td>31</td>\n",
       "      <td>29</td>\n",
       "      <td>0</td>\n",
       "      <td>0</td>\n",
       "      <td>1</td>\n",
       "      <td>...</td>\n",
       "      <td>0</td>\n",
       "      <td>3</td>\n",
       "      <td>7</td>\n",
       "      <td>1</td>\n",
       "      <td>3</td>\n",
       "      <td>1</td>\n",
       "      <td>1</td>\n",
       "      <td>1</td>\n",
       "      <td>6</td>\n",
       "      <td>0</td>\n",
       "    </tr>\n",
       "    <tr>\n",
       "      <th>1</th>\n",
       "      <td>120</td>\n",
       "      <td>2</td>\n",
       "      <td>0.036133</td>\n",
       "      <td>528</td>\n",
       "      <td>304</td>\n",
       "      <td>31</td>\n",
       "      <td>29</td>\n",
       "      <td>0</td>\n",
       "      <td>0</td>\n",
       "      <td>5</td>\n",
       "      <td>...</td>\n",
       "      <td>0</td>\n",
       "      <td>2</td>\n",
       "      <td>4</td>\n",
       "      <td>2</td>\n",
       "      <td>3</td>\n",
       "      <td>1</td>\n",
       "      <td>1</td>\n",
       "      <td>2</td>\n",
       "      <td>6</td>\n",
       "      <td>0</td>\n",
       "    </tr>\n",
       "    <tr>\n",
       "      <th>2</th>\n",
       "      <td>120</td>\n",
       "      <td>2</td>\n",
       "      <td>0.001119</td>\n",
       "      <td>146</td>\n",
       "      <td>178</td>\n",
       "      <td>31</td>\n",
       "      <td>29</td>\n",
       "      <td>0</td>\n",
       "      <td>0</td>\n",
       "      <td>1</td>\n",
       "      <td>...</td>\n",
       "      <td>0</td>\n",
       "      <td>12</td>\n",
       "      <td>8</td>\n",
       "      <td>1</td>\n",
       "      <td>2</td>\n",
       "      <td>2</td>\n",
       "      <td>1</td>\n",
       "      <td>1</td>\n",
       "      <td>6</td>\n",
       "      <td>0</td>\n",
       "    </tr>\n",
       "    <tr>\n",
       "      <th>3</th>\n",
       "      <td>120</td>\n",
       "      <td>2</td>\n",
       "      <td>0.001209</td>\n",
       "      <td>132</td>\n",
       "      <td>164</td>\n",
       "      <td>31</td>\n",
       "      <td>29</td>\n",
       "      <td>0</td>\n",
       "      <td>0</td>\n",
       "      <td>1</td>\n",
       "      <td>...</td>\n",
       "      <td>0</td>\n",
       "      <td>6</td>\n",
       "      <td>9</td>\n",
       "      <td>1</td>\n",
       "      <td>1</td>\n",
       "      <td>1</td>\n",
       "      <td>1</td>\n",
       "      <td>1</td>\n",
       "      <td>6</td>\n",
       "      <td>0</td>\n",
       "    </tr>\n",
       "    <tr>\n",
       "      <th>4</th>\n",
       "      <td>120</td>\n",
       "      <td>2</td>\n",
       "      <td>0.001169</td>\n",
       "      <td>146</td>\n",
       "      <td>178</td>\n",
       "      <td>31</td>\n",
       "      <td>29</td>\n",
       "      <td>0</td>\n",
       "      <td>0</td>\n",
       "      <td>1</td>\n",
       "      <td>...</td>\n",
       "      <td>0</td>\n",
       "      <td>7</td>\n",
       "      <td>9</td>\n",
       "      <td>1</td>\n",
       "      <td>1</td>\n",
       "      <td>1</td>\n",
       "      <td>1</td>\n",
       "      <td>1</td>\n",
       "      <td>6</td>\n",
       "      <td>0</td>\n",
       "    </tr>\n",
       "  </tbody>\n",
       "</table>\n",
       "<p>5 rows × 43 columns</p>\n",
       "</div>"
      ],
      "text/plain": [
       "   proto  state       dur  sbytes  dbytes  sttl  dttl  sloss  dloss  service  \\\n",
       "0    120      2  0.001055     132     164    31    29      0      0        1   \n",
       "1    120      2  0.036133     528     304    31    29      0      0        5   \n",
       "2    120      2  0.001119     146     178    31    29      0      0        1   \n",
       "3    120      2  0.001209     132     164    31    29      0      0        1   \n",
       "4    120      2  0.001169     146     178    31    29      0      0        1   \n",
       "\n",
       "   ...  ct_ftp_cmd  ct_srv_src  ct_srv_dst  ct_dst_ltm  ct_src_ltm  \\\n",
       "0  ...           0           3           7           1           3   \n",
       "1  ...           0           2           4           2           3   \n",
       "2  ...           0          12           8           1           2   \n",
       "3  ...           0           6           9           1           1   \n",
       "4  ...           0           7           9           1           1   \n",
       "\n",
       "   ct_src_dport_ltm  ct_dst_sport_ltm  ct_dst_src_ltm  attack_cat  label  \n",
       "0                 1                 1               1           6      0  \n",
       "1                 1                 1               2           6      0  \n",
       "2                 2                 1               1           6      0  \n",
       "3                 1                 1               1           6      0  \n",
       "4                 1                 1               1           6      0  \n",
       "\n",
       "[5 rows x 43 columns]"
      ]
     },
     "execution_count": 224,
     "metadata": {},
     "output_type": "execute_result"
    }
   ],
   "source": [
    "df.head()"
   ]
  },
  {
   "cell_type": "code",
   "execution_count": 245,
   "id": "523017e6-32cf-4dc0-aca9-61da6ea5a840",
   "metadata": {},
   "outputs": [],
   "source": [
    "# === XGBoost for Binary Classification ===\n",
    "params = {\n",
    "    'n_estimators': 100,\n",
    "    'max_depth': 5,\n",
    "    'learning_rate': 0.1,\n",
    "    'use_label_encoder': False,\n",
    "    'eval_metric': 'logloss',\n",
    "    'random_state': 42\n",
    "}"
   ]
  },
  {
   "cell_type": "code",
   "execution_count": 246,
   "id": "340027ef-171b-4c9f-b608-35964dcc8592",
   "metadata": {},
   "outputs": [
    {
     "name": "stderr",
     "output_type": "stream",
     "text": [
      "C:\\Users\\alpba\\anaconda3\\Lib\\site-packages\\xgboost\\training.py:183: UserWarning: [00:12:18] WARNING: C:\\actions-runner\\_work\\xgboost\\xgboost\\src\\learner.cc:738: \n",
      "Parameters: { \"use_label_encoder\" } are not used.\n",
      "\n",
      "  bst.update(dtrain, iteration=i, fobj=obj)\n"
     ]
    },
    {
     "name": "stdout",
     "output_type": "stream",
     "text": [
      "XGBoost - Binary Classification (is_attack):\n",
      "Accuracy: 0.9919\n",
      "F1 Score: 0.9059\n",
      "Precision: 0.9204\n",
      "Recall: 0.8919\n",
      "ROC AUC: 0.999\n",
      "              precision    recall  f1-score   support\n",
      "\n",
      "           0     0.9951    0.9965    0.9958    581673\n",
      "           1     0.9204    0.8919    0.9059     26527\n",
      "\n",
      "    accuracy                         0.9919    608200\n",
      "   macro avg     0.9577    0.9442    0.9509    608200\n",
      "weighted avg     0.9918    0.9919    0.9919    608200\n",
      "\n"
     ]
    }
   ],
   "source": [
    "clf_bin = XGBClassifier(**params)\n",
    "clf_bin.fit(X_train, y_train)\n",
    "\n",
    "# Predict on test set\n",
    "y_pred_bin = clf_bin.predict(X_test)\n",
    "y_proba_bin = clf_bin.predict_proba(X_test)[:, 1]  # Probability for class 1"
   ]
  },
  {
   "cell_type": "code",
   "execution_count": 249,
   "id": "22383687-8872-4685-9d51-18c7e615f4d4",
   "metadata": {},
   "outputs": [
    {
     "name": "stdout",
     "output_type": "stream",
     "text": [
      "XGBoost - Binary Classification (is_attack):\n",
      "Accuracy: 0.9919\n",
      "F1 Score: 0.9059\n",
      "Precision: 0.9204\n",
      "Recall: 0.8919\n",
      "ROC AUC: 0.999\n",
      "              precision    recall  f1-score   support\n",
      "\n",
      "           0     0.9951    0.9965    0.9958    581673\n",
      "           1     0.9204    0.8919    0.9059     26527\n",
      "\n",
      "    accuracy                         0.9919    608200\n",
      "   macro avg     0.9577    0.9442    0.9509    608200\n",
      "weighted avg     0.9918    0.9919    0.9919    608200\n",
      "\n"
     ]
    }
   ],
   "source": [
    "# Evaluate with multiple metrics\n",
    "print(\"XGBoost - Binary Classification (is_attack):\")\n",
    "print(\"Accuracy:\", round(accuracy_score(y_test, y_pred_bin), 4))\n",
    "print(\"F1 Score:\", round(f1_score(y_test, y_pred_bin), 4))\n",
    "print(\"Precision:\", round(precision_score(y_test, y_pred_bin), 4))\n",
    "print(\"Recall:\", round(recall_score(y_test, y_pred_bin), 4))\n",
    "print(\"ROC AUC:\", round(roc_auc_score(y_test, y_proba_bin), 4))\n",
    "print(classification_report(y_test, y_pred_bin, digits=4))"
   ]
  },
  {
   "cell_type": "code",
   "execution_count": 251,
   "id": "8cdd1101-3c08-4aec-ab45-27f6f6c4ba46",
   "metadata": {},
   "outputs": [],
   "source": [
    "# === Filter only attack samples for multiclass ===\n",
    "df_attacks = df[df['label'] == 1].copy()\n",
    "X_cat = df_attacks.drop(columns=['label', 'attack_cat'])\n",
    "y_cat = df_attacks['attack_cat']"
   ]
  },
  {
   "cell_type": "code",
   "execution_count": null,
   "id": "afef4e19-3964-44e1-a9d1-060d8bc83635",
   "metadata": {},
   "outputs": [],
   "source": [
    "# === Encode attack_cat if needed ===\n",
    "le = LabelEncoder()\n",
    "yc_train_enc = le.fit_transform(yc_train)\n",
    "yc_test_enc  = le.transform(yc_test)\n",
    "\n",
    "clf_cat = XGBClassifier(\n",
    "    objective='multi:softprob',\n",
    "    num_class=len(le.classes_),\n",
    "    use_label_encoder=False,\n",
    "    eval_metric='mlogloss',\n",
    "    random_state=42\n",
    ")\n",
    "clf_cat.fit(Xc_train, yc_train_enc)\n"
   ]
  },
  {
   "cell_type": "code",
   "execution_count": 230,
   "id": "cfa9a545-41a7-4ed2-9eaf-5165e6c51762",
   "metadata": {},
   "outputs": [
    {
     "name": "stderr",
     "output_type": "stream",
     "text": [
      "C:\\Users\\alpba\\anaconda3\\Lib\\site-packages\\xgboost\\training.py:183: UserWarning: [23:56:26] WARNING: C:\\actions-runner\\_work\\xgboost\\xgboost\\src\\learner.cc:738: \n",
      "Parameters: { \"use_label_encoder\" } are not used.\n",
      "\n",
      "  bst.update(dtrain, iteration=i, fobj=obj)\n"
     ]
    },
    {
     "name": "stdout",
     "output_type": "stream",
     "text": [
      "XGBoost - Multiclass Classification (attack_cat):\n",
      "Accuracy: 0.7903\n",
      "F1 Score (weighted): 0.7879\n",
      "Precision (weighted): 0.7908\n",
      "Recall (weighted): 0.7903\n",
      "ROC AUC (weighted): 0.9694\n",
      "              precision    recall  f1-score   support\n",
      "\n",
      "           0     0.1463    0.2623    0.1878       610\n",
      "           1     0.1469    0.1383    0.1425       564\n",
      "           2     0.4128    0.2265    0.2925      1651\n",
      "           3     0.8096    0.8636    0.8357      8231\n",
      "           4     0.8783    0.9021    0.8900      6290\n",
      "           5     0.9091    0.8750    0.8918      5658\n",
      "           7     0.8091    0.7484    0.7775      3036\n",
      "           8     0.6911    0.7323    0.7111       437\n",
      "           9     0.6750    0.5294    0.5934        51\n",
      "\n",
      "    accuracy                         0.7903     26528\n",
      "   macro avg     0.6087    0.5864    0.5914     26528\n",
      "weighted avg     0.7908    0.7903    0.7879     26528\n",
      "\n"
     ]
    }
   ],
   "source": [
    "# === Split data for multiclass model ===\n",
    "Xc_train, Xc_test, yc_train, yc_test = train_test_split(\n",
    "    X_cat, y_cat, test_size=0.3, random_state=42, stratify=y_cat\n",
    ")\n",
    "# Predict and probability\n",
    "yc_pred = clf_cat.predict(Xc_test)\n",
    "yc_proba = clf_cat.predict_proba(Xc_test)\n",
    "\n",
    "# Evaluate with multiple metrics\n",
    "print(\"XGBoost - Multiclass Classification (attack_cat):\")\n",
    "print(\"Accuracy:\", round(accuracy_score(yc_test_enc, yc_pred), 4))\n",
    "print(\"F1 Score (weighted):\", round(f1_score(yc_test_enc, yc_pred, average='weighted'), 4))\n",
    "print(\"Precision (weighted):\", round(precision_score(yc_test_enc, yc_pred, average='weighted', zero_division=0), 4))\n",
    "print(\"Recall (weighted):\", round(recall_score(yc_test_enc, yc_pred, average='weighted', zero_division=0), 4))\n",
    "print(\"ROC AUC (weighted):\", round(roc_auc_score(\n",
    "    yc_test_enc, yc_proba, multi_class='ovr', average='weighted'), 4))\n",
    "print(classification_report(yc_test_enc, yc_pred, digits=4, target_names=[str(c) for c in le.classes_]))"
   ]
  },
  {
   "cell_type": "code",
   "execution_count": 197,
   "id": "bc5daff2-893d-42ec-926b-13474a379aeb",
   "metadata": {},
   "outputs": [
    {
     "name": "stdout",
     "output_type": "stream",
     "text": [
      "Attack category classes: [0 1 2 3 4 5 7 8 9]\n",
      "Train distribution: (array([0, 1, 2, 3, 4, 5, 6, 7, 8], dtype=int64), array([ 1423,  1317,  3851, 19205, 14675, 13202,  7082,  1021,   120],\n",
      "      dtype=int64))\n",
      "Test distribution: (array([0, 1, 2, 3, 4, 5, 6, 7, 8], dtype=int64), array([ 610,  564, 1651, 8231, 6290, 5658, 3036,  437,   51], dtype=int64))\n",
      "Prediction distribution: (array([0, 1, 2, 3, 4, 5, 6, 7, 8], dtype=int64), array([1094,  531,  906, 8780, 6460, 5446, 2808,  463,   40], dtype=int64))\n"
     ]
    }
   ],
   "source": [
    "# Confirm labels and classes\n",
    "print(\"Attack category classes:\", le.classes_)\n",
    "print(\"Train distribution:\", np.unique(y2_train_enc, return_counts=True))\n",
    "print(\"Test distribution:\", np.unique(y2_test_enc, return_counts=True))\n",
    "print(\"Prediction distribution:\", np.unique(y2_pred, return_counts=True))"
   ]
  },
  {
   "cell_type": "code",
   "execution_count": 240,
   "id": "74e1da28-a200-4a8c-b5e3-ae4ceeb48ac2",
   "metadata": {},
   "outputs": [
    {
     "name": "stdout",
     "output_type": "stream",
     "text": [
      "Confusion Matrix (Binary):\n",
      " [[579627   2046]\n",
      " [  2867  23660]]\n"
     ]
    },
    {
     "data": {
      "image/png": "[encoded data removed]",
      "text/plain": [
       "<Figure size 640x480 with 2 Axes>"
      ]
     },
     "metadata": {},
     "output_type": "display_data"
    }
   ],
   "source": [
    "# After making predictions (e.g., y_pred_bin)\n",
    "cm_bin = confusion_matrix(y_test, y_pred_bin)\n",
    "print(\"Confusion Matrix (Binary):\\n\", cm_bin)\n",
    "\n",
    "# Visualization\n",
    "disp = ConfusionMatrixDisplay(confusion_matrix=cm_bin)\n",
    "disp.plot(cmap='Blues', values_format='d')\n",
    "plt.title(\"Confusion Matrix - XGBoost Binary Classification\")\n",
    "plt.show()"
   ]
  },
  {
   "cell_type": "code",
   "execution_count": 242,
   "id": "4480f7e7-efea-4303-9872-56fe90e3440f",
   "metadata": {},
   "outputs": [
    {
     "name": "stdout",
     "output_type": "stream",
     "text": [
      "Confusion Matrix (Multiclass):\n",
      " [[ 160   94   82   98   92   44   40    0    0]\n",
      " [ 146   78   59   70   92   50   64    5    0]\n",
      " [ 162   78  374  687  136   90   70   54    0]\n",
      " [ 183   85  176 7108  206  153  267   46    7]\n",
      " [ 167   91   74  144 5674   77   42   20    1]\n",
      " [ 142   52   76  255  114 4951   51   12    5]\n",
      " [ 134   53   61  351   93   66 2272    6    0]\n",
      " [   0    0    4   45   53   13    2  320    0]\n",
      " [   0    0    0   22    0    2    0    0   27]]\n"
     ]
    },
    {
     "data": {
      "image/png": "[encoded data removed]",
      "text/plain": [
       "<Figure size 1000x800 with 2 Axes>"
      ]
     },
     "metadata": {},
     "output_type": "display_data"
    }
   ],
   "source": [
    "# After making predictions (e.g., yc_pred, yc_test_enc)\n",
    "cm_multi = confusion_matrix(yc_test_enc, yc_pred)\n",
    "print(\"Confusion Matrix (Multiclass):\\n\", cm_multi)\n",
    "\n",
    "# Visualize with matplotlib (or use seaborn for nicer colors)\n",
    "plt.figure(figsize=(10, 8))\n",
    "sns.heatmap(cm_multi, annot=True, fmt='d', cmap='Blues',\n",
    "            xticklabels=[str(c) for c in le.classes_],\n",
    "            yticklabels=[str(c) for c in le.classes_])\n",
    "plt.xlabel('Predicted')\n",
    "plt.ylabel('True')\n",
    "plt.title(\"Confusion Matrix - XGBoost Multiclass (attack_cat)\")\n",
    "plt.show()"
   ]
  },
  {
   "cell_type": "code",
   "execution_count": null,
   "id": "b06ea082-6424-4ce7-ad00-96bbff46c691",
   "metadata": {},
   "outputs": [],
   "source": []
  }
 ],
 "metadata": {
  "kernelspec": {
   "display_name": "Python [conda env:base] *",
   "language": "python",
   "name": "conda-base-py"
  },
  "language_info": {
   "codemirror_mode": {
    "name": "ipython",
    "version": 3
   },
   "file_extension": ".py",
   "mimetype": "text/x-python",
   "name": "python",
   "nbconvert_exporter": "python",
   "pygments_lexer": "ipython3",
   "version": "3.11.7"
  }
 },
 "nbformat": 4,
 "nbformat_minor": 5
}

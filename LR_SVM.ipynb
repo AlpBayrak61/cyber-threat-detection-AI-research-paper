{
 "cells": [
  {
   "cell_type": "code",
   "execution_count": 6,
   "id": "675934d1-4704-41d0-ab1e-1439c860fc6a",
   "metadata": {
    "scrolled": true
   },
   "outputs": [
    {
     "name": "stdout",
     "output_type": "stream",
     "text": [
      "Index(['proto', 'state', 'dur', 'sbytes', 'dbytes', 'sttl', 'dttl', 'sloss',\n",
      "       'dloss', 'service', 'sload', 'dload', 'spkts', 'dpkts', 'swin', 'dwin',\n",
      "       'stcpb', 'dtcpb', 'smean', 'dmean', 'trans_depth', 'res_bdy_len',\n",
      "       'sjit', 'djit', 'Src_pkt_AT', 'Dst_pkt_AT', 'tcprtt', 'synack',\n",
      "       'ackdat', 'is_sm_ips_ports', 'ct_state_ttl', 'ct_flw_http_mthd',\n",
      "       'is_ftp_login', 'ct_ftp_cmd', 'ct_srv_src', 'ct_srv_dst', 'ct_dst_ltm',\n",
      "       'ct_src_ltm', 'ct_src_dport_ltm', 'ct_dst_sport_ltm', 'ct_dst_src_ltm',\n",
      "       'attack_cat', 'label'],\n",
      "      dtype='object')\n"
     ]
    },
    {
     "data": {
      "text/plain": [
       "label\n",
       "0    1938908\n",
       "1      88424\n",
       "Name: count, dtype: int64"
      ]
     },
     "execution_count": 6,
     "metadata": {},
     "output_type": "execute_result"
    }
   ],
   "source": [
    "import pandas as pd\n",
    "from sklearn.linear_model import LogisticRegression\n",
    "from sklearn.preprocessing import StandardScaler\n",
    "from sklearn.model_selection import train_test_split\n",
    "from sklearn.metrics import accuracy_score\n",
    "import time\n",
    "import numpy as np\n",
    "import joblib\n",
    "from sklearn.svm import SVC\n",
    "from sklearn import svm\n",
    "from sklearn.inspection import DecisionBoundaryDisplay\n",
    "from sklearn.model_selection import GridSearchCV\n",
    "from sklearn.model_selection import StratifiedKFold\n",
    "from sklearn.metrics import classification_report, confusion_matrix, precision_score, recall_score, roc_auc_score\n",
    "from sklearn.preprocessing import OneHotEncoder\n",
    "from sklearn.compose import ColumnTransformer\n",
    "\n",
    "data = pd.read_csv(r\"C:\\Users\\isa\\Documents\\GitHub\\Cyber-Threat-Detection-ML\\df_log_clipped.csv\")\n",
    "\n",
    "print(data.columns)\n",
    "\n",
    "#data.isna().sum()\n",
    "data.iloc[:, 42].value_counts()\n"
   ]
  },
  {
   "cell_type": "code",
   "execution_count": 7,
   "id": "118d73e7-f940-4051-a7e2-257bdb44dda6",
   "metadata": {},
   "outputs": [],
   "source": [
    "\n",
    "#////////SPLIT df/////////////////////////////\n",
    "# X = columns 0 through 41 (i.e., first 42 columns)\n",
    "X = data.iloc[:, 0:41]\n",
    "\n",
    "# Y = column 42 (i.e., the 43rd column)\n",
    "Y = data.iloc[:, 42]\n",
    "\n",
    "X_train, X_test, Y_train, Y_test = train_test_split(X,Y, test_size=0.2, random_state=42)\n",
    "\n",
    "#//////////////////////////////////////////////////////"
   ]
  },
  {
   "cell_type": "code",
   "execution_count": 8,
   "id": "65b7c259",
   "metadata": {},
   "outputs": [],
   "source": [
    "#///////HOT ENCODE X (attributes) ////////////\n",
    "\n",
    "# Identify column types\n",
    "categorical_cols = X.select_dtypes(include=['object', 'category']).columns\n",
    "numeric_cols = X.select_dtypes(include=['int64', 'float64']).columns\n",
    "\n",
    "# Preprocessing steps\n",
    "preprocessor = ColumnTransformer(\n",
    "    transformers=[\n",
    "        ('num', StandardScaler(), numeric_cols),\n",
    "        ('cat', OneHotEncoder(handle_unknown='ignore'), categorical_cols)\n",
    "    ])\n",
    "\n",
    "# Fit + transform\n",
    "X_train_preprocessed = preprocessor.fit_transform(X_train)\n",
    "X_test_preprocessed = preprocessor.transform(X_test)\n",
    "\n",
    "#/////////////////////////////////////////////////////"
   ]
  },
  {
   "cell_type": "code",
   "execution_count": 19,
   "id": "0f793056-4075-4bac-b68d-64b6fc6871b1",
   "metadata": {},
   "outputs": [],
   "source": [
    "clf = LogisticRegression(random_state=42)\n",
    "\n",
    "cv = StratifiedKFold(n_splits=3, shuffle=True, random_state=42)\n",
    "\n",
    "scoring = {\n",
    "    'f1': 'f1',\n",
    "    'recall': 'recall',\n",
    "    'roc_auc': 'roc_auc',\n",
    "    'balanced_accuracy': 'balanced_accuracy'\n",
    "}\n",
    "\n",
    "search_space = [\n",
    "    {\n",
    "        'C':[0.1, 1],\n",
    "        \"solver\": [\"saga\"],  # Only use these two for large datasets\n",
    "        \"penalty\": [\"l2\"],  # Only L2 regularization, most commonly used\n",
    "        \"max_iter\": [700],  # Reasonable range for max_iter\n",
    "        \"tol\": [1e-4]  # Two different tolerances for convergence\n",
    "    }\n",
    "]\n",
    "\n",
    "GS = GridSearchCV(estimator = clf,\n",
    "                  param_grid = search_space,\n",
    "                  scoring = 'f1',\n",
    "                  cv=cv,\n",
    "                 n_jobs=-1,\n",
    "                 verbose=2)"
   ]
  },
  {
   "cell_type": "code",
   "execution_count": 21,
   "id": "57df8c9b-dbf9-4bd0-889e-bf71bba427d2",
   "metadata": {},
   "outputs": [
    {
     "name": "stdout",
     "output_type": "stream",
     "text": [
      "Fitting 3 folds for each of 2 candidates, totalling 6 fits\n"
     ]
    },
    {
     "name": "stderr",
     "output_type": "stream",
     "text": [
      "c:\\Users\\isa\\anaconda3\\Lib\\site-packages\\sklearn\\linear_model\\_sag.py:349: ConvergenceWarning: The max_iter was reached which means the coef_ did not converge\n",
      "  warnings.warn(\n"
     ]
    },
    {
     "name": "stdout",
     "output_type": "stream",
     "text": [
      "Best Parameters:  {'C': 1, 'max_iter': 700, 'penalty': 'l2', 'solver': 'saga', 'tol': 0.0001}\n",
      "Best F1 Score:  0.8601805822781324\n",
      "              precision    recall  f1-score        support\n",
      "0              0.996389  0.989828  0.993097  387719.000000\n",
      "1              0.805724  0.921625  0.859786   17748.000000\n",
      "accuracy       0.986842  0.986842  0.986842       0.986842\n",
      "macro avg      0.901056  0.955726  0.926442  405467.000000\n",
      "weighted avg   0.988043  0.986842  0.987262  405467.000000\n",
      "Confusion Matrix:\n",
      " [[383775   3944]\n",
      " [  1391  16357]]\n",
      "Test ROC AUC: 0.9975450172023524\n",
      "Test Accuracy with Best Model:  0.9868423324216274\n",
      "Precision: 0.8057238559676864\n",
      "Recall: 0.9216249718278116\n"
     ]
    },
    {
     "data": {
      "text/plain": [
       "['best_logistic_model.pkl']"
      ]
     },
     "execution_count": 21,
     "metadata": {},
     "output_type": "execute_result"
    }
   ],
   "source": [
    "\n",
    "\n",
    "\n",
    "\n",
    "\n",
    "# Run GridSearchCV\n",
    "GS.fit(X_train_preprocessed, Y_train)\n",
    "\n",
    "# Get best parameters from the grid search\n",
    "print(\"Best Parameters: \", GS.best_params_)\n",
    "\n",
    "# Get the best score (based on 'f1' in your case)\n",
    "print(\"Best F1 Score: \", GS.best_score_)\n",
    "\n",
    "# Get the best model from the grid search\n",
    "best_model = GS.best_estimator_\n",
    "\n",
    "\n",
    "y_pred = best_model.predict(X_test_preprocessed)\n",
    "y_proba = best_model.predict_proba(X_test_preprocessed)[:, 1]\n",
    "\n",
    "report_dict = classification_report(Y_test, y_pred, output_dict=True)\n",
    "report_df = pd.DataFrame(report_dict).transpose()\n",
    "print(report_df)\n",
    "\n",
    "\n",
    "print(\"Confusion Matrix:\\n\", confusion_matrix(Y_test, y_pred))\n",
    "print(\"Test ROC AUC:\", roc_auc_score(Y_test, y_proba))\n",
    "\n",
    "# Evaluate the best model on the test set\n",
    "test_score = best_model.score(X_test_preprocessed, Y_test)\n",
    "print(\"Test Accuracy with Best Model: \", test_score)\n",
    "\n",
    "\n",
    "precision = precision_score(Y_test, y_pred, pos_label=1)\n",
    "recall = recall_score(Y_test, y_pred, pos_label=1)\n",
    "\n",
    "print(\"Precision:\", precision)\n",
    "print(\"Recall:\", recall)\n",
    "#save model\n",
    "joblib.dump(best_model, 'best_logistic_model.pkl')\n"
   ]
  },
  {
   "cell_type": "markdown",
   "id": "ba006ac4-8e66-4d67-8ab1-6ebf2dc68f23",
   "metadata": {},
   "source": [
    "SVM Classifier"
   ]
  },
  {
   "cell_type": "code",
   "execution_count": 23,
   "id": "02db7cf8-ee1d-4582-a5ca-66ecb7a36f62",
   "metadata": {},
   "outputs": [
    {
     "name": "stdout",
     "output_type": "stream",
     "text": [
      "Fitting 3 folds for each of 3 candidates, totalling 9 fits\n",
      "Time for training linear SVM: 3687.6403017044067 seconds\n",
      "Best Parameters for linear SVM:  {'C': 1.5, 'penalty': 'l2', 'tol': 0.0001}\n",
      "Best F1 Score in Linear SVM:  0.8636551152952592\n",
      "Test Accuracy with Best Model:  0.9860753156237129\n",
      "              precision    recall  f1-score        support\n",
      "0              0.999956  0.985482  0.992666  387719.000000\n",
      "1              0.759033  0.999042  0.862654   17748.000000\n",
      "accuracy       0.986075  0.986075  0.986075       0.986075\n",
      "macro avg      0.879494  0.992262  0.927660  405467.000000\n",
      "weighted avg   0.989410  0.986075  0.986975  405467.000000\n",
      "Precision: 0.7590325342465754\n",
      "Recall: 0.9990421455938697\n",
      "Confusion Matrix:\n",
      " [[382090   5629]\n",
      " [    17  17731]]\n"
     ]
    }
   ],
   "source": [
    "\n",
    "from sklearn.svm import LinearSVC\n",
    "from sklearn import svm\n",
    "from sklearn.inspection import DecisionBoundaryDisplay\n",
    "from sklearn.model_selection import GridSearchCV\n",
    "import time\n",
    "\n",
    "\n",
    "# Hyperparameters for linear kernel svm Grid Search\n",
    "linear_grid = {\n",
    "    'C': [0.5, 1, 1.5],\n",
    "    'penalty': ['l2'],\n",
    "    \"tol\": [1e-4]\n",
    "}\n",
    "\n",
    "linear_svm = LinearSVC(max_iter=10000, random_state=42, class_weight='balanced')\n",
    "\n",
    "linear_GS = GridSearchCV(\n",
    "    estimator=linear_svm,\n",
    "    param_grid=linear_grid,\n",
    "    scoring='f1',\n",
    "    cv=cv,\n",
    "    n_jobs=-1,\n",
    "    verbose=2\n",
    ")\n",
    "\n",
    "start_time = time.time()\n",
    "linear_GS.fit(X_train_preprocessed, Y_train)\n",
    "elapsed_time = time.time() - start_time\n",
    "\n",
    "print('Time for training linear SVM: {} seconds'.format(elapsed_time))\n",
    "print('Best Parameters for linear SVM: ', linear_GS.best_params_)\n",
    "print('Best F1 Score in Linear SVM: ', linear_GS.best_score_)\n",
    "\n",
    "# Evaluate the best model on the test set\n",
    "best_svm_model = linear_GS.best_estimator_\n",
    "test_score = best_svm_model.score(X_test_preprocessed, Y_test)\n",
    "print(\"Test Accuracy with Best Model: \", test_score)\n",
    "\n",
    "# Get predictions\n",
    "y_pred = best_svm_model.predict(X_test_preprocessed)\n",
    "\n",
    "# Print classification report (includes precision, recall, F1)\n",
    "report_dict = classification_report(Y_test, y_pred, output_dict=True)\n",
    "report_df = pd.DataFrame(report_dict).transpose()\n",
    "print(report_df)\n",
    "\n",
    "# Print precision and recall directly\n",
    "precision = precision_score(Y_test, y_pred)\n",
    "recall = recall_score(Y_test, y_pred)\n",
    "print(\"Precision:\", precision)\n",
    "print(\"Recall:\", recall)\n",
    "\n",
    "# Print confusion matrix\n",
    "print(\"Confusion Matrix:\\n\", confusion_matrix(Y_test, y_pred))\n",
    "\n",
    "\n",
    "\n",
    "\n"
   ]
  },
  {
   "cell_type": "markdown",
   "id": "fbebef76-418b-4328-9d4c-e4cc94aa6ff4",
   "metadata": {},
   "source": [
    "# "
   ]
  },
  {
   "cell_type": "code",
   "execution_count": null,
   "id": "d6fff7ed-06aa-47a7-934c-a056acecd2e9",
   "metadata": {},
   "outputs": [],
   "source": []
  }
 ],
 "metadata": {
  "kernelspec": {
   "display_name": "base",
   "language": "python",
   "name": "python3"
  },
  "language_info": {
   "codemirror_mode": {
    "name": "ipython",
    "version": 3
   },
   "file_extension": ".py",
   "mimetype": "text/x-python",
   "name": "python",
   "nbconvert_exporter": "python",
   "pygments_lexer": "ipython3",
   "version": "3.12.7"
  }
 },
 "nbformat": 4,
 "nbformat_minor": 5
}
